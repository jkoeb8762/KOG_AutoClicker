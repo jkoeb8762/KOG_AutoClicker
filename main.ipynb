{
 "cells": [
  {
   "cell_type": "code",
   "execution_count": 1,
   "id": "2fcebe34",
   "metadata": {},
   "outputs": [],
   "source": [
    "import pyautogui\n",
    "from PIL import ImageGrab\n",
    "import time\n",
    "\n",
    "def click_pixel(image):\n",
    "    \"\"\"Find and click the center of an image on the screen.\"\"\"\n",
    "    try:\n",
    "        buttonx, buttony = pyautogui.locateCenterOnScreen(image, confidence=0.9)\n",
    "        pyautogui.click(buttonx, buttony)\n",
    "        return True\n",
    "    except pyautogui.ImageNotFoundException:\n",
    "        print(f'ImageNotFoundException: {image} not found')\n",
    "        return False\n",
    "\n",
    "def get_pixel_color(x, y):\n",
    "    \"\"\"Return the RGB color of the pixel at the specified (x, y) coordinates.\"\"\"\n",
    "    screen = ImageGrab.grab()\n",
    "    return screen.getpixel((x, y))\n",
    "\n",
    "def main():\n",
    "    i = 0\n",
    "    while i < 3000:\n",
    "        try:\n",
    "            i += 1\n",
    "            #print(f\"Loop iteration {i}\")\n",
    "            time.sleep(1)\n",
    "\n",
    "            if not click_pixel('images/10x.png'):\n",
    "                continue  # If the image is not found, skip to the next iteration\n",
    "\n",
    "            #print(\"Looking for 'int.png'\")\n",
    "            location = pyautogui.locateCenterOnScreen('images/int.png')\n",
    "            if location is None:\n",
    "                print('Error: \"int.png\" not found.')\n",
    "                continue  # Skip to the next iteration if the image is not found\n",
    "\n",
    "            buttonx, buttony = location\n",
    "            x_displacement = 335\n",
    "            x = buttonx + x_displacement\n",
    "\n",
    "            #print(f\"Checking color at ({x}, {buttony})\")\n",
    "            result_color = get_pixel_color(x, buttony)\n",
    "            #print(f\"Color at ({x}, {buttony}): {result_color}\")\n",
    "\n",
    "            green = (184, 243, 156)  # The RGB color to match\n",
    "            time.sleep(2)\n",
    "            #print(\"Matching color...\")\n",
    "\n",
    "            if pyautogui.pixelMatchesColor(int(x), int(buttony), green):\n",
    "                #print(\"Color matches, clicking 'keep_current.png'\")\n",
    "                if not click_pixel('images/keep_current.png'):\n",
    "                    continue\n",
    "            else:\n",
    "                #print(\"Color does not match, clicking 'keep_former.png'\")\n",
    "                if not click_pixel('images/keep_former.PNG'):\n",
    "                    continue\n",
    "\n",
    "        except Exception as e:\n",
    "            print(f\"Unhandled exception: {str(e)}\")\n",
    "            continue"
   ]
  },
  {
   "cell_type": "code",
   "execution_count": 2,
   "id": "33adf336",
   "metadata": {},
   "outputs": [
    {
     "name": "stdout",
     "output_type": "stream",
     "text": [
      "ImageNotFoundException: images/10x.png not found\n",
      "ImageNotFoundException: images/10x.png not found\n",
      "ImageNotFoundException: images/10x.png not found\n"
     ]
    },
    {
     "ename": "KeyboardInterrupt",
     "evalue": "",
     "output_type": "error",
     "traceback": [
      "\u001b[1;31m---------------------------------------------------------------------------\u001b[0m",
      "\u001b[1;31mKeyboardInterrupt\u001b[0m                         Traceback (most recent call last)",
      "\u001b[1;32m~\\AppData\\Local\\Temp\\ipykernel_1036\\217905245.py\u001b[0m in \u001b[0;36m<module>\u001b[1;34m\u001b[0m\n\u001b[0;32m      1\u001b[0m \u001b[1;32mif\u001b[0m \u001b[0m__name__\u001b[0m \u001b[1;33m==\u001b[0m \u001b[1;34m'__main__'\u001b[0m\u001b[1;33m:\u001b[0m\u001b[1;33m\u001b[0m\u001b[1;33m\u001b[0m\u001b[0m\n\u001b[1;32m----> 2\u001b[1;33m     \u001b[0mmain\u001b[0m\u001b[1;33m(\u001b[0m\u001b[1;33m)\u001b[0m\u001b[1;33m\u001b[0m\u001b[1;33m\u001b[0m\u001b[0m\n\u001b[0m",
      "\u001b[1;32m~\\AppData\\Local\\Temp\\ipykernel_1036\\1407730759.py\u001b[0m in \u001b[0;36mmain\u001b[1;34m()\u001b[0m\n\u001b[0;32m     24\u001b[0m             \u001b[0mi\u001b[0m \u001b[1;33m+=\u001b[0m \u001b[1;36m1\u001b[0m\u001b[1;33m\u001b[0m\u001b[1;33m\u001b[0m\u001b[0m\n\u001b[0;32m     25\u001b[0m             \u001b[1;31m#print(f\"Loop iteration {i}\")\u001b[0m\u001b[1;33m\u001b[0m\u001b[1;33m\u001b[0m\u001b[0m\n\u001b[1;32m---> 26\u001b[1;33m             \u001b[0mtime\u001b[0m\u001b[1;33m.\u001b[0m\u001b[0msleep\u001b[0m\u001b[1;33m(\u001b[0m\u001b[1;36m1\u001b[0m\u001b[1;33m)\u001b[0m\u001b[1;33m\u001b[0m\u001b[1;33m\u001b[0m\u001b[0m\n\u001b[0m\u001b[0;32m     27\u001b[0m \u001b[1;33m\u001b[0m\u001b[0m\n\u001b[0;32m     28\u001b[0m             \u001b[1;32mif\u001b[0m \u001b[1;32mnot\u001b[0m \u001b[0mclick_pixel\u001b[0m\u001b[1;33m(\u001b[0m\u001b[1;34m'images/10x.png'\u001b[0m\u001b[1;33m)\u001b[0m\u001b[1;33m:\u001b[0m\u001b[1;33m\u001b[0m\u001b[1;33m\u001b[0m\u001b[0m\n",
      "\u001b[1;31mKeyboardInterrupt\u001b[0m: "
     ]
    }
   ],
   "source": [
    "if __name__ == '__main__':\n",
    "    main()"
   ]
  },
  {
   "cell_type": "code",
   "execution_count": null,
   "id": "2f874193",
   "metadata": {},
   "outputs": [],
   "source": []
  }
 ],
 "metadata": {
  "kernelspec": {
   "display_name": "Python 3 (ipykernel)",
   "language": "python",
   "name": "python3"
  },
  "language_info": {
   "codemirror_mode": {
    "name": "ipython",
    "version": 3
   },
   "file_extension": ".py",
   "mimetype": "text/x-python",
   "name": "python",
   "nbconvert_exporter": "python",
   "pygments_lexer": "ipython3",
   "version": "3.9.13"
  }
 },
 "nbformat": 4,
 "nbformat_minor": 5
}
