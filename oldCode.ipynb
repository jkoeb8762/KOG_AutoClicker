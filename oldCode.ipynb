{
 "cells": [
  {
   "cell_type": "code",
   "execution_count": null,
   "id": "b0e62edf",
   "metadata": {},
   "outputs": [],
   "source": [
    "def xdd():\n",
    "    i = 0\n",
    "    while i < 300:\n",
    "        try:\n",
    "            i += 1\n",
    "            #print(f\"Loop iteration {i}\")\n",
    "            time.sleep(1)\n",
    "\n",
    "            if not click_pixel('images/10x.png'):\n",
    "                continue  # If the image is not found, skip to the next iteration\n",
    "\n",
    "            #print(\"Looking for 'int.png'\")\n",
    "            location = pyautogui.locateCenterOnScreen('images/dex.png')\n",
    "            if location is None:\n",
    "                print('Error: \"dex.png\" not found.')\n",
    "                continue  # Skip to the next iteration if the image is not found\n",
    "\n",
    "            buttonx, buttony = location\n",
    "            x_displacement = 320\n",
    "            x = buttonx + x_displacement\n",
    "\n",
    "            #print(f\"Checking color at ({x}, {buttony})\")\n",
    "            result_color = get_pixel_color(x, buttony)\n",
    "            #print(f\"Color at ({x}, {buttony}): {result_color}\")\n",
    "\n",
    "            #green = (184, 243, 156)  # The RGB color to match\n",
    "            green = (196, 244, 169)\n",
    "            time.sleep(2)\n",
    "            #print(\"Matching color...\")\n",
    "\n",
    "            if pyautogui.pixelMatchesColor(int(x), int(buttony), green):\n",
    "                #print(\"Color matches, clicking 'keep_current.png'\")\n",
    "                if not click_pixel('images/keep_current.png'):\n",
    "                    continue\n",
    "            else:\n",
    "                #print(\"Color does not match, clicking 'keep_former.png'\")\n",
    "                if not click_pixel('images/keep_former.PNG'):\n",
    "                    continue\n",
    "\n",
    "        except Exception as e:\n",
    "            print(f\"Unhandled exception: {str(e)}\")\n",
    "            continue"
   ]
  },
  {
   "cell_type": "code",
   "execution_count": null,
   "id": "bf36190f",
   "metadata": {},
   "outputs": [],
   "source": [
    "targetx, targety = pyautogui.locateCenterOnScreen('images/dex.png',confidence=0.8)\n",
    "resultarrow_x, resultarrow_y = pyautogui.locateCenterOnScreen('images/fail.png',confidence=0.8)\n",
    "#x = (buttonx+320)\n",
    "pyautogui.moveTo(resultarrow_x, targety)\n",
    "get_pixel_color(resultarrow_x, targety)"
   ]
  },
  {
   "cell_type": "code",
   "execution_count": 3,
   "id": "f0840ad4",
   "metadata": {},
   "outputs": [],
   "source": [
    "import json\n",
    "# Load the variables from results.json\n",
    "def load_variables(filename='results.json'):\n",
    "    with open(filename, 'r') as f:\n",
    "        data = json.load(f)\n",
    "    return data\n",
    "\n",
    "variables = load_variables('results.json')"
   ]
  },
  {
   "cell_type": "code",
   "execution_count": 4,
   "id": "1913556b",
   "metadata": {},
   "outputs": [],
   "source": [
    "target_type = variables.get('target_type')\n",
    "resultarrow_location = variables.get('resultarrow_location')\n",
    "result_color = tuple(variables.get('result_color'))\n",
    "n = int(variables.get('target_cycles'))"
   ]
  },
  {
   "cell_type": "code",
   "execution_count": 7,
   "id": "d12e4ab9",
   "metadata": {},
   "outputs": [
    {
     "name": "stdout",
     "output_type": "stream",
     "text": [
      "<class 'str'>\n",
      "{'x': 806, 'y': 579}\n",
      "(200, 242, 167)\n",
      "<class 'int'>\n"
     ]
    }
   ],
   "source": [
    "print(type(target_type))\n",
    "print(resultarrow_location)\n",
    "print(result_color)\n",
    "print(type(n))"
   ]
  },
  {
   "cell_type": "code",
   "execution_count": 9,
   "id": "9d03a38c",
   "metadata": {},
   "outputs": [],
   "source": [
    "import pyautogui"
   ]
  },
  {
   "cell_type": "code",
   "execution_count": 20,
   "id": "959837d0",
   "metadata": {},
   "outputs": [],
   "source": [
    "pyautogui.moveTo(420, 366)"
   ]
  },
  {
   "cell_type": "code",
   "execution_count": null,
   "id": "c80d73ab",
   "metadata": {},
   "outputs": [],
   "source": []
  }
 ],
 "metadata": {
  "kernelspec": {
   "display_name": "Python 3 (ipykernel)",
   "language": "python",
   "name": "python3"
  },
  "language_info": {
   "codemirror_mode": {
    "name": "ipython",
    "version": 3
   },
   "file_extension": ".py",
   "mimetype": "text/x-python",
   "name": "python",
   "nbconvert_exporter": "python",
   "pygments_lexer": "ipython3",
   "version": "3.9.13"
  }
 },
 "nbformat": 4,
 "nbformat_minor": 5
}
