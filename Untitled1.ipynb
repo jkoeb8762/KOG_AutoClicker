{
 "cells": [
  {
   "cell_type": "code",
   "execution_count": 1,
   "id": "c98fe7c1",
   "metadata": {},
   "outputs": [],
   "source": [
    "import pyautogui\n",
    "from PIL import ImageGrab\n",
    "import json\n",
    "import time\n",
    "import numpy\n",
    "\n",
    "def get_pixel_color(x, y):\n",
    "    \"\"\"Get the color of the pixel at the specified coordinates.\"\"\"\n",
    "    screen = ImageGrab.grab()\n",
    "    return screen.getpixel((x, y))\n",
    "\n",
    "def click_pixel(image):\n",
    "    \"\"\"Find and click the center of an image on the screen.\"\"\"\n",
    "    try:\n",
    "        buttonx, buttony = pyautogui.locateCenterOnScreen(image, confidence=0.9)\n",
    "        pyautogui.click(buttonx, buttony)\n",
    "        return True\n",
    "    except pyautogui.ImageNotFoundException:\n",
    "        print(f'ImageNotFoundException: {image} not found')\n",
    "        return False\n",
    "\n",
    "def locate_and_move(image, confidence=0.8):\n",
    "    \"\"\"Find and move to the center of an image on the screen.\"\"\"\n",
    "    x, y = pyautogui.locateCenterOnScreen(image, confidence=confidence)\n",
    "    if x is None:\n",
    "        raise ValueError(f\"{image} not found on screen\")\n",
    "    pyautogui.moveTo(x, y)\n",
    "    return x, y\n",
    "\n",
    "class CustomJSONEncoder(json.JSONEncoder):\n",
    "    def default(self, obj):\n",
    "        \"\"\"Handle special data types like NumPy int64 or others.\"\"\"\n",
    "        try:\n",
    "            import numpy as np\n",
    "            if isinstance(obj, (np.int64, np.int32)):\n",
    "                return int(obj)\n",
    "            if isinstance(obj, (np.float64, np.float32)):\n",
    "                return float(obj)\n",
    "        except ImportError:\n",
    "            pass\n",
    "\n",
    "        # Handle tuples and other custom objects\n",
    "        if isinstance(obj, tuple):\n",
    "            return list(obj)\n",
    "\n",
    "        return super().default(obj)"
   ]
  },
  {
   "cell_type": "code",
   "execution_count": 2,
   "id": "8b433dc5",
   "metadata": {},
   "outputs": [],
   "source": [
    "def setup():\n",
    "    # Prompt user for target type\n",
    "    target_type = input(\"輸入目標屬性 (str, int, or dex): \").strip().lower()\n",
    "\n",
    "    if target_type not in {'str', 'int', 'dex'}:\n",
    "        print(\"非法選項. 退出中.\")\n",
    "        return\n",
    "\n",
    "    target_cycles = int(input(\"輸入育成次數: \").strip())\n",
    "    target_image = f'images/{target_type}.png'\n",
    "    success_image = 'images/success.png'\n",
    "\n",
    "    try:\n",
    "        # Locate the center of the target image\n",
    "        target_x, target_y = locate_and_move(target_image)\n",
    "\n",
    "        # Locate the center of the fail image\n",
    "        resultarrow_x, resultarrow_y = locate_and_move(success_image)\n",
    "\n",
    "        # Move to the fail image and get pixel color\n",
    "        pyautogui.moveTo(resultarrow_x, target_y)\n",
    "        color = get_pixel_color(resultarrow_x, target_y)\n",
    "\n",
    "        # Store results\n",
    "        result_data = {\n",
    "            'target_cycles': target_cycles,\n",
    "            'target_type': target_type,\n",
    "            'target_location': {'x': int(target_x), 'y': int(target_y)},  # Convert to native types\n",
    "            'resultarrow_location': {'x': int(resultarrow_x), 'y': int(target_y)},  # Ensure integer values\n",
    "            'result_color': list(color)  # Convert color tuple to list\n",
    "        }\n",
    "        return result_data\n",
    "\n",
    "    except ValueError as e:\n",
    "        print(str(e))\n",
    "    except Exception as e:\n",
    "        print(f\"Unhandled exception: {str(e)}\")"
   ]
  },
  {
   "cell_type": "code",
   "execution_count": null,
   "id": "c0476f0f",
   "metadata": {},
   "outputs": [],
   "source": [
    "def tester():\n",
    "    data = setup()\n",
    "    input(\"選擇保留目前狀況: \")\n",
    "    try:\n",
    "        for i in range(int(data['target_cycles'])):\n",
    "            time.sleep(1)\n",
    "            if not click_pixel('images/10x.png'):\n",
    "                continue\n",
    "\n",
    "            x, y = data['resultarrow_location']['x'], data['resultarrow_location']['y']\n",
    "            color = data['result_color']\n",
    "            time.sleep(2)\n",
    "            if pyautogui.pixelMatchesColor(x, y, tuple(color)):\n",
    "                click_pixel('images/keep_current.png')\n",
    "            else:\n",
    "                click_pixel('images/keep_former.PNG')\n",
    "    except Exception as e:\n",
    "        print(f\"Unhandled exception: {str(e)}\")"
   ]
  },
  {
   "cell_type": "code",
   "execution_count": 5,
   "id": "6a1d2d25",
   "metadata": {},
   "outputs": [
    {
     "name": "stdout",
     "output_type": "stream",
     "text": [
      "輸入目標屬性 (str, int, or dex): dex\n",
      "輸入育成次數: 5\n",
      "選擇保留目前狀況: \n",
      "Press Enter to exit...\n"
     ]
    }
   ],
   "source": [
    "if __name__ == '__main__':\n",
    "    tester()\n",
    "    input(\"Press Enter to exit...\")"
   ]
  },
  {
   "cell_type": "code",
   "execution_count": null,
   "id": "46639412",
   "metadata": {},
   "outputs": [],
   "source": []
  }
 ],
 "metadata": {
  "kernelspec": {
   "display_name": "Python 3 (ipykernel)",
   "language": "python",
   "name": "python3"
  },
  "language_info": {
   "codemirror_mode": {
    "name": "ipython",
    "version": 3
   },
   "file_extension": ".py",
   "mimetype": "text/x-python",
   "name": "python",
   "nbconvert_exporter": "python",
   "pygments_lexer": "ipython3",
   "version": "3.9.13"
  }
 },
 "nbformat": 4,
 "nbformat_minor": 5
}
