{
 "cells": [
  {
   "cell_type": "code",
   "execution_count": 1,
   "id": "3b98e887",
   "metadata": {},
   "outputs": [],
   "source": [
    "import pyautogui\n",
    "from PIL import ImageGrab\n",
    "import json\n",
    "import time"
   ]
  },
  {
   "cell_type": "code",
   "execution_count": 2,
   "id": "57a4897a",
   "metadata": {},
   "outputs": [],
   "source": [
    "# Load the variables from results.json\n",
    "def load_variables(filename='results.json'):\n",
    "    with open(filename, 'r') as f:\n",
    "        data = json.load(f)\n",
    "    return data"
   ]
  },
  {
   "cell_type": "code",
   "execution_count": 3,
   "id": "98ca07da",
   "metadata": {},
   "outputs": [],
   "source": [
    "def get_pixel_color(x, y):\n",
    "    \"\"\"Function to get the color of the pixel at the specified coordinates.\"\"\"\n",
    "    screen = ImageGrab.grab()\n",
    "    return screen.getpixel((x, y))"
   ]
  },
  {
   "cell_type": "code",
   "execution_count": 4,
   "id": "68ba3298",
   "metadata": {},
   "outputs": [],
   "source": [
    "def click_pixel(image):\n",
    "    \"\"\"Find and click the center of an image on the screen.\"\"\"\n",
    "    try:\n",
    "        buttonx, buttony = pyautogui.locateCenterOnScreen(image, confidence=0.9)\n",
    "        pyautogui.click(buttonx, buttony)\n",
    "        return True\n",
    "    except pyautogui.ImageNotFoundException:\n",
    "        print(f'ImageNotFoundException: {image} not found')\n",
    "        return False"
   ]
  },
  {
   "cell_type": "code",
   "execution_count": 14,
   "id": "964d61cd",
   "metadata": {},
   "outputs": [],
   "source": [
    "def main():\n",
    "    variables = load_variables('results.json')\n",
    "    target_type = variables.get('target_type')\n",
    "    resultarrow_location = variables.get('resultarrow_location')\n",
    "    desired_result_color = tuple(variables.get('result_color'))\n",
    "    n = int(variables.get('target_cycles'))\n",
    "    i = 0\n",
    "    while i < 1:\n",
    "        try:\n",
    "            i += 1\n",
    "            time.sleep(1)\n",
    "            if not click_pixel('images/10x.png'):\n",
    "                continue\n",
    "            location = pyautogui.locateCenterOnScreen(f'images/{target_type}.png')\n",
    "            if location is None:\n",
    "                print('Error: \"dex.png\" not found.')\n",
    "                continue\n",
    "            \n",
    "            x = resultarrow_location['x']\n",
    "            y = resultarrow_location['y']\n",
    "            \n",
    "            result_color = get_pixel_color(x, y)\n",
    "            green = desired_result_color\n",
    "            time.sleep(2)\n",
    "            if pyautogui.pixelMatchesColor(int(x), int(y), green):\n",
    "                print(\"Color matches, clicking 'keep_current.png'\")\n",
    "                #if not click_pixel('images/keep_current.png'):\n",
    "                    #continue\n",
    "            else:\n",
    "                print(\"Color does not match, clicking 'keep_former.png'\")\n",
    "                #if not click_pixel('images/keep_former.PNG'):\n",
    "                    #continue\n",
    "\n",
    "        except Exception as e:\n",
    "            print(f\"Unhandled exception: {str(e)}\")\n",
    "            continue"
   ]
  },
  {
   "cell_type": "code",
   "execution_count": 15,
   "id": "136b60ce",
   "metadata": {},
   "outputs": [
    {
     "name": "stdout",
     "output_type": "stream",
     "text": [
      "Color matches, clicking 'keep_current.png'\n"
     ]
    }
   ],
   "source": [
    "if __name__ == '__main__':\n",
    "    main()"
   ]
  },
  {
   "cell_type": "code",
   "execution_count": 12,
   "id": "e20e8417",
   "metadata": {},
   "outputs": [],
   "source": [
    "variables = load_variables('results.json')\n",
    "target_type = variables.get('target_type')\n",
    "resultarrow_location = variables.get('resultarrow_location')\n",
    "result_color = tuple(variables.get('result_color'))\n",
    "n = int(variables.get('target_cycles'))"
   ]
  },
  {
   "cell_type": "code",
   "execution_count": 16,
   "id": "fdb76553",
   "metadata": {},
   "outputs": [
    {
     "data": {
      "text/plain": [
       "{'x': 412, 'y': 361}"
      ]
     },
     "execution_count": 16,
     "metadata": {},
     "output_type": "execute_result"
    }
   ],
   "source": [
    "resultarrow_location"
   ]
  },
  {
   "cell_type": "code",
   "execution_count": 17,
   "id": "ce60f217",
   "metadata": {},
   "outputs": [],
   "source": [
    "pyautogui.moveTo(resultarrow_location['x'], resultarrow_location['y'])"
   ]
  },
  {
   "cell_type": "code",
   "execution_count": 18,
   "id": "0749cc5c",
   "metadata": {},
   "outputs": [
    {
     "data": {
      "text/plain": [
       "(255, 245, 203)"
      ]
     },
     "execution_count": 18,
     "metadata": {},
     "output_type": "execute_result"
    }
   ],
   "source": [
    "get_pixel_color(resultarrow_location['x'], resultarrow_location['y'])"
   ]
  },
  {
   "cell_type": "code",
   "execution_count": null,
   "id": "8697db8d",
   "metadata": {},
   "outputs": [],
   "source": []
  }
 ],
 "metadata": {
  "kernelspec": {
   "display_name": "Python 3 (ipykernel)",
   "language": "python",
   "name": "python3"
  },
  "language_info": {
   "codemirror_mode": {
    "name": "ipython",
    "version": 3
   },
   "file_extension": ".py",
   "mimetype": "text/x-python",
   "name": "python",
   "nbconvert_exporter": "python",
   "pygments_lexer": "ipython3",
   "version": "3.9.13"
  }
 },
 "nbformat": 4,
 "nbformat_minor": 5
}
